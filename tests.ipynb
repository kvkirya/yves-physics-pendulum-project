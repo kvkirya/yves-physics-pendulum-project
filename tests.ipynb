{
 "cells": [
  {
   "cell_type": "code",
   "execution_count": 1,
   "metadata": {},
   "outputs": [],
   "source": [
    "import matplotlib.pyplot as plt\n",
    "import numpy as np\n",
    "import sympy as sp"
   ]
  },
  {
   "cell_type": "code",
   "execution_count": 2,
   "metadata": {},
   "outputs": [],
   "source": [
    "\"\"\"Defined Variables by yves\"\"\"\n",
    "\n",
    "g = 9.81\n",
    "gamma = 45\n",
    "l = 4\n",
    "w = np.sqrt(gamma/l)\n",
    "y = [0]\n",
    "\n",
    "# in search of L1 and L2"
   ]
  },
  {
   "cell_type": "code",
   "execution_count": 3,
   "metadata": {},
   "outputs": [],
   "source": [
    "# i representiert dabei die dauer der Sekunden.\n",
    "\n",
    "def CosineFunc(w):\n",
    "    for i in range(250):\n",
    "        y[i] = y[i-1] * np.cos(w*i)\n",
    "        print(y)\n",
    "    return y\n"
   ]
  },
  {
   "cell_type": "code",
   "execution_count": 9,
   "metadata": {},
   "outputs": [],
   "source": [
    "class Pendulum:\n",
    "\n",
    "    def __init__(self, l, t, theta0, v0):\n",
    "        self.l = l\n",
    "        self.t = t\n",
    "        self.theta0 = theta0\n",
    "        self.v0 = v0\n",
    "\n",
    "    def solvependmotion(self):\n",
    "        m,g,l,t = sp.symbols(('m', 'g', 'l', 't'))\n",
    "        theta = sp.Function('theta')(t)\n",
    "        dtheta =theta.diff(t)\n",
    "        ddtheta = dtheta.diff(t)\n",
    "\n",
    "        x,y = l*sp.sin(theta), -l*sp.cos(theta)\n",
    "\n",
    "        T =sp.Rational(1,2)*m*(x.diff(t)**2+y.diff(t)**2)\n",
    "        V=m*g*y\n",
    "        L = T-V\n",
    "\n",
    "        lha = L.diff(theta)\n",
    "        rha = sp.diff(L.diff(dtheta), t)\n",
    "\n",
    "        eq = rha - lha\n",
    "        eq = sp.solve(eq, ddtheta)[0]\n",
    "        display(eq.simplify())"
   ]
  },
  {
   "cell_type": "code",
   "execution_count": 10,
   "metadata": {},
   "outputs": [
    {
     "data": {
      "text/latex": [
       "$\\displaystyle - \\frac{g \\sin{\\left(\\theta{\\left(t \\right)} \\right)}}{l}$"
      ],
      "text/plain": [
       "-g*sin(theta(t))/l"
      ]
     },
     "metadata": {},
     "output_type": "display_data"
    }
   ],
   "source": [
    "t = np.linspace(0,10,500)\n",
    "pend =Pendulum(l, t, np.pi/4, 0)\n",
    "pend.solvependmotion()"
   ]
  },
  {
   "cell_type": "code",
   "execution_count": null,
   "metadata": {},
   "outputs": [],
   "source": []
  }
 ],
 "metadata": {
  "kernelspec": {
   "display_name": "yvesproject",
   "language": "python",
   "name": "python3"
  },
  "language_info": {
   "codemirror_mode": {
    "name": "ipython",
    "version": 3
   },
   "file_extension": ".py",
   "mimetype": "text/x-python",
   "name": "python",
   "nbconvert_exporter": "python",
   "pygments_lexer": "ipython3",
   "version": "3.10.6"
  }
 },
 "nbformat": 4,
 "nbformat_minor": 2
}
